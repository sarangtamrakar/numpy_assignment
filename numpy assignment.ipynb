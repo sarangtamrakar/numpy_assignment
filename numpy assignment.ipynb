{
 "cells": [
  {
   "cell_type": "code",
   "execution_count": 1,
   "metadata": {},
   "outputs": [],
   "source": [
    "import numpy as np"
   ]
  },
  {
   "cell_type": "code",
   "execution_count": 2,
   "metadata": {},
   "outputs": [],
   "source": [
    "# Write a function so that the columns of the output matrix are powers of the input\n",
    "# vector."
   ]
  },
  {
   "cell_type": "code",
   "execution_count": 3,
   "metadata": {},
   "outputs": [
    {
     "data": {
      "text/plain": [
       "array([[ 1.50100956, -0.73826856,  0.01820163,  2.39852035],\n",
       "       [ 0.30588775,  1.46383613,  1.59610881, -0.58768125],\n",
       "       [-0.49113335,  0.01703194, -0.4706581 ,  0.29384798]])"
      ]
     },
     "execution_count": 3,
     "metadata": {},
     "output_type": "execute_result"
    }
   ],
   "source": [
    "arr=np.random.randn(3,4)\n",
    "arr"
   ]
  },
  {
   "cell_type": "code",
   "execution_count": 4,
   "metadata": {},
   "outputs": [
    {
     "data": {
      "text/plain": [
       "array([[ 3.38181915e+00, -4.02386238e-01,  6.03018667e-06,\n",
       "         1.37984474e+01],\n",
       "       [ 2.86210950e-02,  3.13673179e+00,  4.06618830e+00,\n",
       "        -2.02967038e-01],\n",
       "       [-1.18467238e-01,  4.94074023e-06, -1.04259731e-01,\n",
       "         2.53727840e-02]])"
      ]
     },
     "execution_count": 4,
     "metadata": {},
     "output_type": "execute_result"
    }
   ],
   "source": [
    "pow(arr,3)"
   ]
  },
  {
   "cell_type": "code",
   "execution_count": 5,
   "metadata": {},
   "outputs": [],
   "source": [
    "# Question: Write a function to find moving average in an array over a window:\n",
    "# Test it over [3, 5, 7, 2, 8, 10, 11, 65, 72, 81, 99, 100, 150] and window of 3."
   ]
  },
  {
   "cell_type": "code",
   "execution_count": 6,
   "metadata": {},
   "outputs": [
    {
     "data": {
      "text/plain": [
       "array([  3,   5,   7,   2,   8,  10,  11,  65,  72,  81,  99, 100, 150])"
      ]
     },
     "execution_count": 6,
     "metadata": {},
     "output_type": "execute_result"
    }
   ],
   "source": [
    "lst = [3, 5, 7, 2, 8, 10, 11, 65, 72, 81, 99, 100, 150]\n",
    "arr_1 = np.array(lst)\n",
    "arr_1"
   ]
  },
  {
   "cell_type": "code",
   "execution_count": 7,
   "metadata": {},
   "outputs": [
    {
     "name": "stdout",
     "output_type": "stream",
     "text": [
      "y1     5.000\n",
      "y2     4.667\n",
      "y3     5.667\n",
      "y4     6.667\n",
      "y5     9.667\n",
      "y6     28.667\n",
      "y7     49.333\n",
      "y8     72.667\n",
      "y9     84.000\n",
      "y10     93.333\n",
      "y11     116.333\n"
     ]
    }
   ],
   "source": [
    "# here k = 3\n",
    "# Thus, the moving average sequence has n-k+1=10-3+1=7\n",
    "print('y1     {:.3f}'.format((3+5+7)/3))\n",
    "print('y2     {:.3f}'.format((5+7+2)/3))\n",
    "print('y3     {:.3f}'.format((7+2+8)/3))\n",
    "print('y4     {:.3f}'.format((2+8+10)/3))\n",
    "print('y5     {:.3f}'.format((8+10+11)/3))\n",
    "print('y6     {:.3f}'.format((10+11+65)/3))\n",
    "print('y7     {:.3f}'.format((11+65+72)/3))\n",
    "print('y8     {:.3f}'.format((65+72+81)/3))\n",
    "print('y9     {:.3f}'.format((72+81+99)/3))\n",
    "print('y10     {:.3f}'.format((81+99+100)/3))\n",
    "print('y11     {:.3f}'.format((99+100+150)/3))"
   ]
  }
 ],
 "metadata": {
  "kernelspec": {
   "display_name": "Python 3",
   "language": "python",
   "name": "python3"
  },
  "language_info": {
   "codemirror_mode": {
    "name": "ipython",
    "version": 3
   },
   "file_extension": ".py",
   "mimetype": "text/x-python",
   "name": "python",
   "nbconvert_exporter": "python",
   "pygments_lexer": "ipython3",
   "version": "3.8.3"
  }
 },
 "nbformat": 4,
 "nbformat_minor": 4
}
